{
 "cells": [
  {
   "cell_type": "code",
   "execution_count": 3,
   "id": "5e0393d5-832d-4347-aa0f-6e5d160d6aa7",
   "metadata": {},
   "outputs": [],
   "source": [
    "import numpy as np\n",
    "import matplotlib.pyplot as plt\n",
    "# import cartopy.crs as ccrs\n",
    "# import cartopy.feature as cfeature\n",
    "import xarray as xr\n",
    "#import pyart\n",
    "# import glob\n",
    "import datetime\n",
    "import matplotlib.gridspec as gridspec\n",
    "import pandas as pd\n",
    "import os\n",
    "from pathlib import Path"
   ]
  },
  {
   "cell_type": "code",
   "execution_count": 2,
   "id": "299e1bee-c19b-4fc5-9c07-8c5872308ce3",
   "metadata": {},
   "outputs": [],
   "source": [
    "path = \"/Users/kelcy/DATA/20080411/\"\n",
    "# https://zenodo.org/records/8184875"
   ]
  },
  {
   "cell_type": "code",
   "execution_count": 4,
   "id": "e0b506c2-36ac-4cd4-8321-501c172cba3c",
   "metadata": {},
   "outputs": [
    {
     "ename": "FileNotFoundError",
     "evalue": "[Errno 2] No such file or directory: b'/Users/kelcy/DATA/20080411/20080411_all_gridded.nc'",
     "output_type": "error",
     "traceback": [
      "\u001b[0;31m---------------------------------------------------------------------------\u001b[0m",
      "\u001b[0;31mKeyError\u001b[0m                                  Traceback (most recent call last)",
      "File \u001b[0;32m~/.conda/envs/myclone/lib/python3.9/site-packages/xarray/backends/file_manager.py:209\u001b[0m, in \u001b[0;36mCachingFileManager._acquire_with_cache_info\u001b[0;34m(self, needs_lock)\u001b[0m\n\u001b[1;32m    208\u001b[0m \u001b[38;5;28;01mtry\u001b[39;00m:\n\u001b[0;32m--> 209\u001b[0m     file \u001b[38;5;241m=\u001b[39m \u001b[38;5;28;43mself\u001b[39;49m\u001b[38;5;241;43m.\u001b[39;49m\u001b[43m_cache\u001b[49m\u001b[43m[\u001b[49m\u001b[38;5;28;43mself\u001b[39;49m\u001b[38;5;241;43m.\u001b[39;49m\u001b[43m_key\u001b[49m\u001b[43m]\u001b[49m\n\u001b[1;32m    210\u001b[0m \u001b[38;5;28;01mexcept\u001b[39;00m \u001b[38;5;167;01mKeyError\u001b[39;00m:\n",
      "File \u001b[0;32m~/.conda/envs/myclone/lib/python3.9/site-packages/xarray/backends/lru_cache.py:55\u001b[0m, in \u001b[0;36mLRUCache.__getitem__\u001b[0;34m(self, key)\u001b[0m\n\u001b[1;32m     54\u001b[0m \u001b[38;5;28;01mwith\u001b[39;00m \u001b[38;5;28mself\u001b[39m\u001b[38;5;241m.\u001b[39m_lock:\n\u001b[0;32m---> 55\u001b[0m     value \u001b[38;5;241m=\u001b[39m \u001b[38;5;28;43mself\u001b[39;49m\u001b[38;5;241;43m.\u001b[39;49m\u001b[43m_cache\u001b[49m\u001b[43m[\u001b[49m\u001b[43mkey\u001b[49m\u001b[43m]\u001b[49m\n\u001b[1;32m     56\u001b[0m     \u001b[38;5;28mself\u001b[39m\u001b[38;5;241m.\u001b[39m_cache\u001b[38;5;241m.\u001b[39mmove_to_end(key)\n",
      "\u001b[0;31mKeyError\u001b[0m: [<class 'netCDF4._netCDF4.Dataset'>, ('/Users/kelcy/DATA/20080411/20080411_all_gridded.nc',), 'r', (('clobber', True), ('diskless', False), ('format', 'NETCDF4'), ('persist', False)), '81103181-def3-40c6-b089-afeec31a3b9a']",
      "\nDuring handling of the above exception, another exception occurred:\n",
      "\u001b[0;31mFileNotFoundError\u001b[0m                         Traceback (most recent call last)",
      "Cell \u001b[0;32mIn [4], line 1\u001b[0m\n\u001b[0;32m----> 1\u001b[0m all_xr_data \u001b[38;5;241m=\u001b[39m \u001b[43mxr\u001b[49m\u001b[38;5;241;43m.\u001b[39;49m\u001b[43mopen_dataset\u001b[49m\u001b[43m(\u001b[49m\u001b[43mpath\u001b[49m\u001b[38;5;241;43m+\u001b[39;49m\u001b[38;5;124;43m\"\u001b[39;49m\u001b[38;5;124;43m20080411_all_gridded.nc\u001b[39;49m\u001b[38;5;124;43m\"\u001b[39;49m\u001b[43m)\u001b[49m\n",
      "File \u001b[0;32m~/.conda/envs/myclone/lib/python3.9/site-packages/xarray/backends/api.py:539\u001b[0m, in \u001b[0;36mopen_dataset\u001b[0;34m(filename_or_obj, engine, chunks, cache, decode_cf, mask_and_scale, decode_times, decode_timedelta, use_cftime, concat_characters, decode_coords, drop_variables, inline_array, backend_kwargs, **kwargs)\u001b[0m\n\u001b[1;32m    527\u001b[0m decoders \u001b[38;5;241m=\u001b[39m _resolve_decoders_kwargs(\n\u001b[1;32m    528\u001b[0m     decode_cf,\n\u001b[1;32m    529\u001b[0m     open_backend_dataset_parameters\u001b[38;5;241m=\u001b[39mbackend\u001b[38;5;241m.\u001b[39mopen_dataset_parameters,\n\u001b[0;32m   (...)\u001b[0m\n\u001b[1;32m    535\u001b[0m     decode_coords\u001b[38;5;241m=\u001b[39mdecode_coords,\n\u001b[1;32m    536\u001b[0m )\n\u001b[1;32m    538\u001b[0m overwrite_encoded_chunks \u001b[38;5;241m=\u001b[39m kwargs\u001b[38;5;241m.\u001b[39mpop(\u001b[38;5;124m\"\u001b[39m\u001b[38;5;124moverwrite_encoded_chunks\u001b[39m\u001b[38;5;124m\"\u001b[39m, \u001b[38;5;28;01mNone\u001b[39;00m)\n\u001b[0;32m--> 539\u001b[0m backend_ds \u001b[38;5;241m=\u001b[39m \u001b[43mbackend\u001b[49m\u001b[38;5;241;43m.\u001b[39;49m\u001b[43mopen_dataset\u001b[49m\u001b[43m(\u001b[49m\n\u001b[1;32m    540\u001b[0m \u001b[43m    \u001b[49m\u001b[43mfilename_or_obj\u001b[49m\u001b[43m,\u001b[49m\n\u001b[1;32m    541\u001b[0m \u001b[43m    \u001b[49m\u001b[43mdrop_variables\u001b[49m\u001b[38;5;241;43m=\u001b[39;49m\u001b[43mdrop_variables\u001b[49m\u001b[43m,\u001b[49m\n\u001b[1;32m    542\u001b[0m \u001b[43m    \u001b[49m\u001b[38;5;241;43m*\u001b[39;49m\u001b[38;5;241;43m*\u001b[39;49m\u001b[43mdecoders\u001b[49m\u001b[43m,\u001b[49m\n\u001b[1;32m    543\u001b[0m \u001b[43m    \u001b[49m\u001b[38;5;241;43m*\u001b[39;49m\u001b[38;5;241;43m*\u001b[39;49m\u001b[43mkwargs\u001b[49m\u001b[43m,\u001b[49m\n\u001b[1;32m    544\u001b[0m \u001b[43m\u001b[49m\u001b[43m)\u001b[49m\n\u001b[1;32m    545\u001b[0m ds \u001b[38;5;241m=\u001b[39m _dataset_from_backend_dataset(\n\u001b[1;32m    546\u001b[0m     backend_ds,\n\u001b[1;32m    547\u001b[0m     filename_or_obj,\n\u001b[0;32m   (...)\u001b[0m\n\u001b[1;32m    555\u001b[0m     \u001b[38;5;241m*\u001b[39m\u001b[38;5;241m*\u001b[39mkwargs,\n\u001b[1;32m    556\u001b[0m )\n\u001b[1;32m    557\u001b[0m \u001b[38;5;28;01mreturn\u001b[39;00m ds\n",
      "File \u001b[0;32m~/.conda/envs/myclone/lib/python3.9/site-packages/xarray/backends/netCDF4_.py:572\u001b[0m, in \u001b[0;36mNetCDF4BackendEntrypoint.open_dataset\u001b[0;34m(self, filename_or_obj, mask_and_scale, decode_times, concat_characters, decode_coords, drop_variables, use_cftime, decode_timedelta, group, mode, format, clobber, diskless, persist, lock, autoclose)\u001b[0m\n\u001b[1;32m    551\u001b[0m \u001b[38;5;28;01mdef\u001b[39;00m \u001b[38;5;21mopen_dataset\u001b[39m(\n\u001b[1;32m    552\u001b[0m     \u001b[38;5;28mself\u001b[39m,\n\u001b[1;32m    553\u001b[0m     filename_or_obj,\n\u001b[0;32m   (...)\u001b[0m\n\u001b[1;32m    568\u001b[0m     autoclose\u001b[38;5;241m=\u001b[39m\u001b[38;5;28;01mFalse\u001b[39;00m,\n\u001b[1;32m    569\u001b[0m ):\n\u001b[1;32m    571\u001b[0m     filename_or_obj \u001b[38;5;241m=\u001b[39m _normalize_path(filename_or_obj)\n\u001b[0;32m--> 572\u001b[0m     store \u001b[38;5;241m=\u001b[39m \u001b[43mNetCDF4DataStore\u001b[49m\u001b[38;5;241;43m.\u001b[39;49m\u001b[43mopen\u001b[49m\u001b[43m(\u001b[49m\n\u001b[1;32m    573\u001b[0m \u001b[43m        \u001b[49m\u001b[43mfilename_or_obj\u001b[49m\u001b[43m,\u001b[49m\n\u001b[1;32m    574\u001b[0m \u001b[43m        \u001b[49m\u001b[43mmode\u001b[49m\u001b[38;5;241;43m=\u001b[39;49m\u001b[43mmode\u001b[49m\u001b[43m,\u001b[49m\n\u001b[1;32m    575\u001b[0m \u001b[43m        \u001b[49m\u001b[38;5;28;43mformat\u001b[39;49m\u001b[38;5;241;43m=\u001b[39;49m\u001b[38;5;28;43mformat\u001b[39;49m\u001b[43m,\u001b[49m\n\u001b[1;32m    576\u001b[0m \u001b[43m        \u001b[49m\u001b[43mgroup\u001b[49m\u001b[38;5;241;43m=\u001b[39;49m\u001b[43mgroup\u001b[49m\u001b[43m,\u001b[49m\n\u001b[1;32m    577\u001b[0m \u001b[43m        \u001b[49m\u001b[43mclobber\u001b[49m\u001b[38;5;241;43m=\u001b[39;49m\u001b[43mclobber\u001b[49m\u001b[43m,\u001b[49m\n\u001b[1;32m    578\u001b[0m \u001b[43m        \u001b[49m\u001b[43mdiskless\u001b[49m\u001b[38;5;241;43m=\u001b[39;49m\u001b[43mdiskless\u001b[49m\u001b[43m,\u001b[49m\n\u001b[1;32m    579\u001b[0m \u001b[43m        \u001b[49m\u001b[43mpersist\u001b[49m\u001b[38;5;241;43m=\u001b[39;49m\u001b[43mpersist\u001b[49m\u001b[43m,\u001b[49m\n\u001b[1;32m    580\u001b[0m \u001b[43m        \u001b[49m\u001b[43mlock\u001b[49m\u001b[38;5;241;43m=\u001b[39;49m\u001b[43mlock\u001b[49m\u001b[43m,\u001b[49m\n\u001b[1;32m    581\u001b[0m \u001b[43m        \u001b[49m\u001b[43mautoclose\u001b[49m\u001b[38;5;241;43m=\u001b[39;49m\u001b[43mautoclose\u001b[49m\u001b[43m,\u001b[49m\n\u001b[1;32m    582\u001b[0m \u001b[43m    \u001b[49m\u001b[43m)\u001b[49m\n\u001b[1;32m    584\u001b[0m     store_entrypoint \u001b[38;5;241m=\u001b[39m StoreBackendEntrypoint()\n\u001b[1;32m    585\u001b[0m     \u001b[38;5;28;01mwith\u001b[39;00m close_on_error(store):\n",
      "File \u001b[0;32m~/.conda/envs/myclone/lib/python3.9/site-packages/xarray/backends/netCDF4_.py:376\u001b[0m, in \u001b[0;36mNetCDF4DataStore.open\u001b[0;34m(cls, filename, mode, format, group, clobber, diskless, persist, lock, lock_maker, autoclose)\u001b[0m\n\u001b[1;32m    370\u001b[0m kwargs \u001b[38;5;241m=\u001b[39m \u001b[38;5;28mdict\u001b[39m(\n\u001b[1;32m    371\u001b[0m     clobber\u001b[38;5;241m=\u001b[39mclobber, diskless\u001b[38;5;241m=\u001b[39mdiskless, persist\u001b[38;5;241m=\u001b[39mpersist, \u001b[38;5;28mformat\u001b[39m\u001b[38;5;241m=\u001b[39m\u001b[38;5;28mformat\u001b[39m\n\u001b[1;32m    372\u001b[0m )\n\u001b[1;32m    373\u001b[0m manager \u001b[38;5;241m=\u001b[39m CachingFileManager(\n\u001b[1;32m    374\u001b[0m     netCDF4\u001b[38;5;241m.\u001b[39mDataset, filename, mode\u001b[38;5;241m=\u001b[39mmode, kwargs\u001b[38;5;241m=\u001b[39mkwargs\n\u001b[1;32m    375\u001b[0m )\n\u001b[0;32m--> 376\u001b[0m \u001b[38;5;28;01mreturn\u001b[39;00m \u001b[38;5;28;43mcls\u001b[39;49m\u001b[43m(\u001b[49m\u001b[43mmanager\u001b[49m\u001b[43m,\u001b[49m\u001b[43m \u001b[49m\u001b[43mgroup\u001b[49m\u001b[38;5;241;43m=\u001b[39;49m\u001b[43mgroup\u001b[49m\u001b[43m,\u001b[49m\u001b[43m \u001b[49m\u001b[43mmode\u001b[49m\u001b[38;5;241;43m=\u001b[39;49m\u001b[43mmode\u001b[49m\u001b[43m,\u001b[49m\u001b[43m \u001b[49m\u001b[43mlock\u001b[49m\u001b[38;5;241;43m=\u001b[39;49m\u001b[43mlock\u001b[49m\u001b[43m,\u001b[49m\u001b[43m \u001b[49m\u001b[43mautoclose\u001b[49m\u001b[38;5;241;43m=\u001b[39;49m\u001b[43mautoclose\u001b[49m\u001b[43m)\u001b[49m\n",
      "File \u001b[0;32m~/.conda/envs/myclone/lib/python3.9/site-packages/xarray/backends/netCDF4_.py:323\u001b[0m, in \u001b[0;36mNetCDF4DataStore.__init__\u001b[0;34m(self, manager, group, mode, lock, autoclose)\u001b[0m\n\u001b[1;32m    321\u001b[0m \u001b[38;5;28mself\u001b[39m\u001b[38;5;241m.\u001b[39m_group \u001b[38;5;241m=\u001b[39m group\n\u001b[1;32m    322\u001b[0m \u001b[38;5;28mself\u001b[39m\u001b[38;5;241m.\u001b[39m_mode \u001b[38;5;241m=\u001b[39m mode\n\u001b[0;32m--> 323\u001b[0m \u001b[38;5;28mself\u001b[39m\u001b[38;5;241m.\u001b[39mformat \u001b[38;5;241m=\u001b[39m \u001b[38;5;28;43mself\u001b[39;49m\u001b[38;5;241;43m.\u001b[39;49m\u001b[43mds\u001b[49m\u001b[38;5;241m.\u001b[39mdata_model\n\u001b[1;32m    324\u001b[0m \u001b[38;5;28mself\u001b[39m\u001b[38;5;241m.\u001b[39m_filename \u001b[38;5;241m=\u001b[39m \u001b[38;5;28mself\u001b[39m\u001b[38;5;241m.\u001b[39mds\u001b[38;5;241m.\u001b[39mfilepath()\n\u001b[1;32m    325\u001b[0m \u001b[38;5;28mself\u001b[39m\u001b[38;5;241m.\u001b[39mis_remote \u001b[38;5;241m=\u001b[39m is_remote_uri(\u001b[38;5;28mself\u001b[39m\u001b[38;5;241m.\u001b[39m_filename)\n",
      "File \u001b[0;32m~/.conda/envs/myclone/lib/python3.9/site-packages/xarray/backends/netCDF4_.py:385\u001b[0m, in \u001b[0;36mNetCDF4DataStore.ds\u001b[0;34m(self)\u001b[0m\n\u001b[1;32m    383\u001b[0m \u001b[38;5;129m@property\u001b[39m\n\u001b[1;32m    384\u001b[0m \u001b[38;5;28;01mdef\u001b[39;00m \u001b[38;5;21mds\u001b[39m(\u001b[38;5;28mself\u001b[39m):\n\u001b[0;32m--> 385\u001b[0m     \u001b[38;5;28;01mreturn\u001b[39;00m \u001b[38;5;28;43mself\u001b[39;49m\u001b[38;5;241;43m.\u001b[39;49m\u001b[43m_acquire\u001b[49m\u001b[43m(\u001b[49m\u001b[43m)\u001b[49m\n",
      "File \u001b[0;32m~/.conda/envs/myclone/lib/python3.9/site-packages/xarray/backends/netCDF4_.py:379\u001b[0m, in \u001b[0;36mNetCDF4DataStore._acquire\u001b[0;34m(self, needs_lock)\u001b[0m\n\u001b[1;32m    378\u001b[0m \u001b[38;5;28;01mdef\u001b[39;00m \u001b[38;5;21m_acquire\u001b[39m(\u001b[38;5;28mself\u001b[39m, needs_lock\u001b[38;5;241m=\u001b[39m\u001b[38;5;28;01mTrue\u001b[39;00m):\n\u001b[0;32m--> 379\u001b[0m     \u001b[38;5;28;01mwith\u001b[39;00m \u001b[38;5;28mself\u001b[39m\u001b[38;5;241m.\u001b[39m_manager\u001b[38;5;241m.\u001b[39macquire_context(needs_lock) \u001b[38;5;28;01mas\u001b[39;00m root:\n\u001b[1;32m    380\u001b[0m         ds \u001b[38;5;241m=\u001b[39m _nc4_require_group(root, \u001b[38;5;28mself\u001b[39m\u001b[38;5;241m.\u001b[39m_group, \u001b[38;5;28mself\u001b[39m\u001b[38;5;241m.\u001b[39m_mode)\n\u001b[1;32m    381\u001b[0m     \u001b[38;5;28;01mreturn\u001b[39;00m ds\n",
      "File \u001b[0;32m~/.conda/envs/myclone/lib/python3.9/contextlib.py:119\u001b[0m, in \u001b[0;36m_GeneratorContextManager.__enter__\u001b[0;34m(self)\u001b[0m\n\u001b[1;32m    117\u001b[0m \u001b[38;5;28;01mdel\u001b[39;00m \u001b[38;5;28mself\u001b[39m\u001b[38;5;241m.\u001b[39margs, \u001b[38;5;28mself\u001b[39m\u001b[38;5;241m.\u001b[39mkwds, \u001b[38;5;28mself\u001b[39m\u001b[38;5;241m.\u001b[39mfunc\n\u001b[1;32m    118\u001b[0m \u001b[38;5;28;01mtry\u001b[39;00m:\n\u001b[0;32m--> 119\u001b[0m     \u001b[38;5;28;01mreturn\u001b[39;00m \u001b[38;5;28;43mnext\u001b[39;49m\u001b[43m(\u001b[49m\u001b[38;5;28;43mself\u001b[39;49m\u001b[38;5;241;43m.\u001b[39;49m\u001b[43mgen\u001b[49m\u001b[43m)\u001b[49m\n\u001b[1;32m    120\u001b[0m \u001b[38;5;28;01mexcept\u001b[39;00m \u001b[38;5;167;01mStopIteration\u001b[39;00m:\n\u001b[1;32m    121\u001b[0m     \u001b[38;5;28;01mraise\u001b[39;00m \u001b[38;5;167;01mRuntimeError\u001b[39;00m(\u001b[38;5;124m\"\u001b[39m\u001b[38;5;124mgenerator didn\u001b[39m\u001b[38;5;124m'\u001b[39m\u001b[38;5;124mt yield\u001b[39m\u001b[38;5;124m\"\u001b[39m) \u001b[38;5;28;01mfrom\u001b[39;00m \u001b[38;5;28mNone\u001b[39m\n",
      "File \u001b[0;32m~/.conda/envs/myclone/lib/python3.9/site-packages/xarray/backends/file_manager.py:197\u001b[0m, in \u001b[0;36mCachingFileManager.acquire_context\u001b[0;34m(self, needs_lock)\u001b[0m\n\u001b[1;32m    194\u001b[0m \u001b[38;5;129m@contextlib\u001b[39m\u001b[38;5;241m.\u001b[39mcontextmanager\n\u001b[1;32m    195\u001b[0m \u001b[38;5;28;01mdef\u001b[39;00m \u001b[38;5;21macquire_context\u001b[39m(\u001b[38;5;28mself\u001b[39m, needs_lock\u001b[38;5;241m=\u001b[39m\u001b[38;5;28;01mTrue\u001b[39;00m):\n\u001b[1;32m    196\u001b[0m     \u001b[38;5;124;03m\"\"\"Context manager for acquiring a file.\"\"\"\u001b[39;00m\n\u001b[0;32m--> 197\u001b[0m     file, cached \u001b[38;5;241m=\u001b[39m \u001b[38;5;28;43mself\u001b[39;49m\u001b[38;5;241;43m.\u001b[39;49m\u001b[43m_acquire_with_cache_info\u001b[49m\u001b[43m(\u001b[49m\u001b[43mneeds_lock\u001b[49m\u001b[43m)\u001b[49m\n\u001b[1;32m    198\u001b[0m     \u001b[38;5;28;01mtry\u001b[39;00m:\n\u001b[1;32m    199\u001b[0m         \u001b[38;5;28;01myield\u001b[39;00m file\n",
      "File \u001b[0;32m~/.conda/envs/myclone/lib/python3.9/site-packages/xarray/backends/file_manager.py:215\u001b[0m, in \u001b[0;36mCachingFileManager._acquire_with_cache_info\u001b[0;34m(self, needs_lock)\u001b[0m\n\u001b[1;32m    213\u001b[0m     kwargs \u001b[38;5;241m=\u001b[39m kwargs\u001b[38;5;241m.\u001b[39mcopy()\n\u001b[1;32m    214\u001b[0m     kwargs[\u001b[38;5;124m\"\u001b[39m\u001b[38;5;124mmode\u001b[39m\u001b[38;5;124m\"\u001b[39m] \u001b[38;5;241m=\u001b[39m \u001b[38;5;28mself\u001b[39m\u001b[38;5;241m.\u001b[39m_mode\n\u001b[0;32m--> 215\u001b[0m file \u001b[38;5;241m=\u001b[39m \u001b[38;5;28;43mself\u001b[39;49m\u001b[38;5;241;43m.\u001b[39;49m\u001b[43m_opener\u001b[49m\u001b[43m(\u001b[49m\u001b[38;5;241;43m*\u001b[39;49m\u001b[38;5;28;43mself\u001b[39;49m\u001b[38;5;241;43m.\u001b[39;49m\u001b[43m_args\u001b[49m\u001b[43m,\u001b[49m\u001b[43m \u001b[49m\u001b[38;5;241;43m*\u001b[39;49m\u001b[38;5;241;43m*\u001b[39;49m\u001b[43mkwargs\u001b[49m\u001b[43m)\u001b[49m\n\u001b[1;32m    216\u001b[0m \u001b[38;5;28;01mif\u001b[39;00m \u001b[38;5;28mself\u001b[39m\u001b[38;5;241m.\u001b[39m_mode \u001b[38;5;241m==\u001b[39m \u001b[38;5;124m\"\u001b[39m\u001b[38;5;124mw\u001b[39m\u001b[38;5;124m\"\u001b[39m:\n\u001b[1;32m    217\u001b[0m     \u001b[38;5;66;03m# ensure file doesn't get overridden when opened again\u001b[39;00m\n\u001b[1;32m    218\u001b[0m     \u001b[38;5;28mself\u001b[39m\u001b[38;5;241m.\u001b[39m_mode \u001b[38;5;241m=\u001b[39m \u001b[38;5;124m\"\u001b[39m\u001b[38;5;124ma\u001b[39m\u001b[38;5;124m\"\u001b[39m\n",
      "File \u001b[0;32msrc/netCDF4/_netCDF4.pyx:2353\u001b[0m, in \u001b[0;36mnetCDF4._netCDF4.Dataset.__init__\u001b[0;34m()\u001b[0m\n",
      "File \u001b[0;32msrc/netCDF4/_netCDF4.pyx:1963\u001b[0m, in \u001b[0;36mnetCDF4._netCDF4._ensure_nc_success\u001b[0;34m()\u001b[0m\n",
      "\u001b[0;31mFileNotFoundError\u001b[0m: [Errno 2] No such file or directory: b'/Users/kelcy/DATA/20080411/20080411_all_gridded.nc'"
     ]
    }
   ],
   "source": [
    "all_xr_data = xr.open_dataset(path+\"20080411_all_gridded.nc\")"
   ]
  },
  {
   "cell_type": "code",
   "execution_count": null,
   "id": "0bc96924-e44a-4c63-a078-af3b2c1fd4d1",
   "metadata": {},
   "outputs": [],
   "source": [
    "all_xr_data"
   ]
  },
  {
   "cell_type": "code",
   "execution_count": null,
   "id": "0a9a6d03-bb2b-43c1-b727-9a3f420a1254",
   "metadata": {},
   "outputs": [],
   "source": [
    "all_xr_data.reflectivity.isel(time=5, z=5).plot(cmap='Spectral_r', vmin=-20, vmax=70)"
   ]
  },
  {
   "cell_type": "markdown",
   "id": "999f46e9-1fda-4fd5-92db-27ddde488097",
   "metadata": {},
   "source": [
    "tobac is designed to work with gridded data currently, so using pre-gridded data, or data we must first grid the radial radar data. This is a quick and dirty gridding, but it will get the job done for this tutorial. Much better gridding results could be had with tuning of the parameters."
   ]
  },
  {
   "cell_type": "markdown",
   "id": "b92de8b2-95c6-482b-addd-136f52c8f628",
   "metadata": {},
   "source": [
    "Let's Look at the data - there's a number of ways to do a quick look, we're going to use pcolormesh. We can look at a specific level of the data, or create a composite reflectivity. Let's do both!"
   ]
  },
  {
   "cell_type": "code",
   "execution_count": null,
   "id": "cf626203-3cbb-4370-a2bf-aba0a57c9b11",
   "metadata": {},
   "outputs": [],
   "source": [
    "#QUICK COMPOSITE REFLECTIVITY HERE:\n",
    "maxrefl = all_xr_data['reflectivity'].max(dim='z')\n",
    "maxrefl"
   ]
  },
  {
   "cell_type": "code",
   "execution_count": null,
   "id": "6cd7751f-1f3f-4cd6-916d-1d1119266443",
   "metadata": {},
   "outputs": [],
   "source": [
    "maxrefl.isel(time=5).plot(cmap='Spectral_r', vmin=-20, vmax=70)"
   ]
  },
  {
   "cell_type": "code",
   "execution_count": null,
   "id": "503a824a-7c38-44dc-8054-46ca8cdcd498",
   "metadata": {},
   "outputs": [],
   "source": [
    "import tobac"
   ]
  },
  {
   "cell_type": "markdown",
   "id": "88baeadf-645b-4724-8227-3f2a0e115365",
   "metadata": {},
   "source": [
    "Note that to track in 3D, we must give information about what our height coordinate is. Iris tends to be picky about the naming conventions, so we need to assign standard names as well."
   ]
  },
  {
   "cell_type": "code",
   "execution_count": null,
   "id": "2551866b-bf65-493b-a7fd-38471ff74ef6",
   "metadata": {},
   "outputs": [],
   "source": [
    "maxrefl.lat.attrs[\"standard_name\"] = \"latitude\"\n",
    "maxrefl.lon.attrs[\"standard_name\"] = \"longitude\""
   ]
  },
  {
   "cell_type": "code",
   "execution_count": null,
   "id": "cfb2d606-d3e4-4571-9c79-5a9e31fb5fef",
   "metadata": {},
   "outputs": [],
   "source": [
    "maxrefl_iris = maxrefl.to_iris()"
   ]
  },
  {
   "cell_type": "code",
   "execution_count": null,
   "id": "006bb866-5568-4d7c-8904-e4de6ceee632",
   "metadata": {},
   "outputs": [],
   "source": [
    "dxy, dt = tobac.utils.get_spacings(grid_iris)\n",
    "print(dxy)\n",
    "print(dt)"
   ]
  },
  {
   "cell_type": "code",
   "execution_count": null,
   "id": "b31b57f6-c289-4939-8011-7bf32c046f99",
   "metadata": {},
   "outputs": [],
   "source": [
    "savedir = Path(\"Save\")\n",
    "if not savedir.is_dir():\n",
    "    savedir.mkdir()\n",
    "plot_dir = Path(\"Plot\")\n",
    "if not plot_dir.is_dir():\n",
    "    plot_dir.mkdir()"
   ]
  },
  {
   "cell_type": "code",
   "execution_count": null,
   "id": "79ed0238-e714-4fc0-998d-980b279e0bea",
   "metadata": {},
   "outputs": [],
   "source": [
    "#FIND OUR FEATURES!\n",
    "\n",
    "print('starting feature detection based on multiple thresholds')\n",
    "Features_df = tobac.feature_detection_multithreshold(maxrefl_iris, dxy, **feature_detection_params)\n",
    "\n",
    "Features=Features_df.to_xarray()\n",
    "print('feature detection done')\n",
    "\n",
    "Features.to_netcdf(os.path.join(savedir,'Features.nc'))\n",
    "print('features saved')"
   ]
  },
  {
   "cell_type": "code",
   "execution_count": null,
   "id": "f0c2b877-5f9a-4e5f-83a1-dc11624ee205",
   "metadata": {},
   "outputs": [],
   "source": [
    "Features"
   ]
  },
  {
   "cell_type": "code",
   "execution_count": null,
   "id": "9c97997e-fdfd-4741-be16-58d8a1ca4bbc",
   "metadata": {},
   "outputs": [],
   "source": [
    "fig, ax = plt.subplots(figsize=(10,10))\n",
    "maxrefl.isel(time=5).plot(cmap='Spectral_r', vmin=-20, vmax=70)\n",
    "ax.scatter(Features['projection_x_coordinate'],Features['projection_y_coordinate'],s = 1,c = 'red', marker = '.',alpha = 0.65)"
   ]
  },
  {
   "cell_type": "code",
   "execution_count": null,
   "id": "b6bbb9ab-8fb2-454e-b16e-2b17c6d712b3",
   "metadata": {},
   "outputs": [],
   "source": [
    "# Dictionary containing keyword arguments for segmentation step:\n",
    "parameters_segmentation={}\n",
    "parameters_segmentation['method']='watershed'\n",
    "parameters_segmentation['threshold']= 30 \n",
    "parameters_segmentation['target'] = 'maximum'"
   ]
  },
  {
   "cell_type": "code",
   "execution_count": null,
   "id": "f937ac35-57f3-46ae-a9ef-647f21f4f593",
   "metadata": {},
   "outputs": [],
   "source": [
    "# Perform Segmentation and save resulting mask to NetCDF file:\n",
    "print('Starting segmentation based on reflectivity')\n",
    "Mask_iris,Features_Precip =tobac.segmentation.segmentation(Features_df,maxrefl_iris,dxy,**parameters_segmentation)\n",
    "\n",
    "Mask=xr.DataArray.from_iris(Mask_iris)\n",
    "Mask = Mask.to_dataset()\n",
    "\n",
    "\n",
    "#Mask,Features_Precip=segmentation(Features,maxrefl,dxy,**parameters_segmentation)\n",
    "print('segmentation based on reflectivity performed, start saving results to files')\n",
    "Mask.to_netcdf(os.path.join(savedir,'Mask_Segmentation_refl.nc'))    "
   ]
  },
  {
   "cell_type": "code",
   "execution_count": null,
   "id": "377d47f7-9273-4db6-a717-0f6e0902f7b6",
   "metadata": {},
   "outputs": [],
   "source": [
    "# Dictionary containing keyword arguments for the linking step:\n",
    "parameters_linking={}\n",
    "parameters_linking['stubs'] = 5 \n",
    "parameters_linking['method_linking']='predict'\n",
    "parameters_linking['adaptive_stop']=0.2\n",
    "parameters_linking['adaptive_step']=0.95\n",
    "parameters_linking['order']=2 #Order of polynomial for extrapolating\n",
    "parameters_linking['subnetwork_size']=100 \n",
    "parameters_linking['memory']= 3\n",
    "#parameters_linking['time_cell_min']=1\n",
    "parameters_linking['v_max']=25 \n",
    "parameters_linking['d_min']= None "
   ]
  },
  {
   "cell_type": "code",
   "execution_count": null,
   "id": "bf6873b4-4765-4158-9d44-59c561afa983",
   "metadata": {},
   "outputs": [],
   "source": [
    "# Perform trajectory linking using trackpy and save the resulting DataFrame:\n",
    "\n",
    "Track_df=tobac.linking_trackpy(Features_df,Mask_iris,dt=dt,dxy=dxy,**parameters_linking)\n",
    "\n",
    "Track = Track_df.to_xarray()\n",
    "\n",
    "Track.to_netcdf(os.path.join(savedir,'Track.nc'))"
   ]
  },
  {
   "cell_type": "markdown",
   "id": "d5373ad0",
   "metadata": {},
   "source": [
    "Now that the tracking is done, we can use the merge and split post-processing function to address cells that have split or merged in the tracking process. This is done using ```tobac.merge_split.merge_split_MEST``` function. Key output variables include:\n",
    "\n",
    "* **cell_parent_track_id**: The associated track id for each cell. All cells that have merged or split will have the same parent track id. If a cell never merges/splits, only one cell will have a particular track id.\n",
    "\n",
    "* **feature_parent_cell_id**: The associated parent cell id for each feature. All feature in a given cell will have the same cell id.\n",
    "\n",
    "* **feature_parent_track_id**: The associated parent track id for each feature. This is not the same as the cell id number.\n",
    "\n",
    "* **track_child_cell_count**: The total number of features belonging to all child cells of a given track id.\n",
    "\n",
    "* **cell_child_feature_count**: The total number of features for each cell."
   ]
  },
  {
   "cell_type": "code",
   "execution_count": 5,
   "id": "1e145354-6565-4f02-ae8b-8acef1372ad6",
   "metadata": {},
   "outputs": [
    {
     "ename": "NameError",
     "evalue": "name 'tobac' is not defined",
     "output_type": "error",
     "traceback": [
      "\u001b[0;31m---------------------------------------------------------------------------\u001b[0m",
      "\u001b[0;31mNameError\u001b[0m                                 Traceback (most recent call last)",
      "Cell \u001b[0;32mIn [5], line 1\u001b[0m\n\u001b[0;32m----> 1\u001b[0m d \u001b[38;5;241m=\u001b[39m \u001b[43mtobac\u001b[49m\u001b[38;5;241m.\u001b[39mmerge_split\u001b[38;5;241m.\u001b[39mmerge_split_MEST(Track_df,dxy, distance\u001b[38;5;241m=\u001b[39m\u001b[38;5;241m25000.0\u001b[39m) \u001b[38;5;66;03m# Track_df is the dataframe output directly from tracking, dxy is the grid spacing we specified earlier, and distance is the maximum distance allowed in rhw MEST that are allowed to match within the end of one and theh staty or another. The larger the distance value, the more cells will link into a single track. \u001b[39;00m\n\u001b[1;32m      3\u001b[0m ds \u001b[38;5;241m=\u001b[39m tobac\u001b[38;5;241m.\u001b[39mutils\u001b[38;5;241m.\u001b[39mstandardize_track_dataset(Track, Mask)\u001b[38;5;66;03m# tobac.utils.standardize_track_dataset can be used to combine a feature mask with the feature data table NOTE: this is optional but may aid in understanding the data and plotting processes.\u001b[39;00m\n\u001b[1;32m      5\u001b[0m both_ds \u001b[38;5;241m=\u001b[39m xr\u001b[38;5;241m.\u001b[39mmerge([ds, d],compat \u001b[38;5;241m=\u001b[39m\u001b[38;5;124m'\u001b[39m\u001b[38;5;124moverride\u001b[39m\u001b[38;5;124m'\u001b[39m) \u001b[38;5;66;03m# This should be used to combine the standard tobac output with the new merge and split information. This creates a single xarray dataarray to assigns cells ith parent and child designations\u001b[39;00m\n",
      "\u001b[0;31mNameError\u001b[0m: name 'tobac' is not defined"
     ]
    }
   ],
   "source": [
    "d = tobac.merge_split.merge_split_MEST(Track_df,dxy, distance=25000.0) \n",
    "# Track_df is the dataframe output directly from tracking, dxy is the grid spacing specified earlier in the notebook, and distance is the maximum distance allowed in the minimum euclidian spanning tree (MEST) that is allowed to match the end of one cell to the start of another. The larger the distance value, the more cells will link into a single track. \n",
    "\n",
    "ds = tobac.utils.standardize_track_dataset(Track, Mask) \n",
    "# tobac.utils.standardize_track_dataset can be used to combine a feature mask with the feature data table. Note: this is optional but may aid in the plotting processes.\n",
    "\n",
    "both_ds = xr.merge([ds, d],compat ='override') \n",
    "# This should be used to combine the standard tobac output with the new merge and split information. This creates a single xarray dataarray to assign cells their parent and child designations.\n",
    "\n",
    "both_ds.to_netcdf(os.path.join(savedir,'Track_features_merges.nc'))\n",
    "d.to_netcdf(os.path.join(savedir,'features_merges.nc'))"
   ]
  },
  {
   "cell_type": "code",
   "execution_count": null,
   "id": "a1a8fbc6-6309-4723-a470-39d9f693c2e7",
   "metadata": {},
   "outputs": [],
   "source": [
    "# Track = xr.open_dataset(savedir+\"/Track.nc\")\n",
    "# Features = xr.open_dataset(savedir+\"/Features.nc\")\n",
    "# refl_mask = xr.open_dataset(savedir+\"/Mask_Segmentation_refl.nc\")\n"
   ]
  },
  {
   "cell_type": "code",
   "execution_count": null,
   "id": "08242d9a-6a4d-40fc-ade7-6c116237c598",
   "metadata": {},
   "outputs": [],
   "source": [
    "#\n",
    "frame = 5\n",
    "isolated_min = 0.5\n",
    "show_tracks = True\n",
    "ref_levels = [5,10,15,20,25,30,35,40,45,50,55,60,65,70,75]\n",
    "\n",
    "fig, ax = plt.subplots(figsize=(10,10))\n",
    "\n",
    "refl = maxrefl[frame,:,:] \n",
    "fig.suptitle(str(maxrefl['time'][frame].data)[:-10])\n",
    "y_mesh,x_mesh = np.meshgrid(maxrefl['x'],maxrefl['y'])\n",
    "    \n",
    "refplt = ax.contourf(y_mesh,x_mesh, refl, extend = 'max',levels = ref_levels,cmap='pyart_LangRainbow12',origin = 'lower', vmin=-24, vmax=72)#,extent = [0,-10000,-20000,-10000])\n",
    "fig.colorbar(refplt,fraction=0.046, pad=0.04)\n",
    "i = np.where(Mask['segmentation_mask'][frame,:,:] > 0)\n",
    "    \n",
    "\n",
    "y, x = y_mesh[i[0],i[1]],x_mesh[i[0],i[1]]\n",
    "imcell2 = ax.scatter(y,x,s = 0.1,c = 'gray', marker = '.',alpha = 0.75)\n",
    "    \n",
    "\n",
    "\n",
    "for i in Track['cell']:\n",
    "    if i < 0:\n",
    "        continue\n",
    "    #print(i)\n",
    "    if math.isfinite(i):\n",
    "        cell_i = np.where(d['feature_parent_cell_id'] == i)\n",
    "        if (np.nanmax(Features['frame'][cell_i]) >= frame) and (np.nanmin(Features['frame'][cell_i]) <= frame):\n",
    "            ax.plot(Track['projection_x_coordinate'][cell_i], Track['projection_y_coordinate'][cell_i], '-.',color='r')\n",
    "            ax.text(Track['projection_x_coordinate'][cell_i][-1],Track['projection_y_coordinate'][cell_i][-1], f'{int(i)}', fontsize = 'small',rotation = 'vertical')\n",
    "        else:\n",
    "            continue\n",
    " \n",
    "\n",
    "\n",
    "\n",
    "\n",
    "\n",
    "#     fig.savefig(plot_dir+'/'+'20260331_track_'+str(frame)+'.png')\n",
    "\n",
    "\n"
   ]
  },
  {
   "cell_type": "code",
   "execution_count": null,
   "id": "061e775c-9f35-423c-8208-a2b5c79330eb",
   "metadata": {},
   "outputs": [],
   "source": [
    "#\n",
    "frame = 10\n",
    "isolated_min = 0.5\n",
    "show_tracks = True\n",
    "ref_levels = [5,10,15,20,25,30,35,40,45,50,55,60,65,70,75]\n",
    "\n",
    "fig, ax = plt.subplots(figsize=(10,10))\n",
    "\n",
    "refl = maxrefl[frame,:,:] \n",
    "fig.suptitle(str(maxrefl['time'][frame].data)[:-10])\n",
    "y_mesh,x_mesh = np.meshgrid(maxrefl['x'],maxrefl['y'])\n",
    "    \n",
    "refplt = ax.contourf(y_mesh,x_mesh, refl, extend = 'max',levels = ref_levels,cmap='pyart_LangRainbow12',origin = 'lower', vmin=-24, vmax=72)#,extent = [0,-10000,-20000,-10000])\n",
    "fig.colorbar(refplt,fraction=0.046, pad=0.04)\n",
    "i = np.where(Mask['segmentation_mask'][frame,:,:] > 0)\n",
    "    \n",
    "\n",
    "y, x = y_mesh[i[0],i[1]],x_mesh[i[0],i[1]]\n",
    "imcell2 = ax.scatter(y,x,s = 0.1,c = 'gray', marker = '.',alpha = 0.75)\n",
    "    \n",
    "\n",
    "\n",
    "\n",
    "for i in both_ds['Track']:\n",
    "    track_i = np.where(both_ds['cell_parent_track_id'] == i.values)\n",
    "    for cell in d['cell'][track_i]:\n",
    "        if cell < 0:\n",
    "            continue\n",
    "\n",
    "        feature_id = np.where(d['feature_parent_cell_id'] == cell)\n",
    "        if (frame <= np.nanmax(Features['frame'][feature_id])) and (frame >= np.nanmin(Features['frame'][feature_id])):\n",
    "            ax.plot(Track['projection_x_coordinate'][feature_id], Track['projection_y_coordinate'][feature_id], '-.',color='b',alpha = 0.5)\n",
    "            ax.text(Track['projection_x_coordinate'][feature_id][-1],Track['projection_y_coordinate'][feature_id][-1], f'{int(i)}', fontsize = 'small',rotation = 'vertical')\n",
    "        else:\n",
    "            continue\n",
    "\n",
    "\n",
    "\n",
    "\n",
    "\n",
    "#     fig.savefig(plot_dir+'/'+'20260331_track_'+str(frame)+'.png')\n",
    "\n",
    "\n"
   ]
  }
 ],
 "metadata": {
  "kernelspec": {
   "display_name": "myclone",
   "language": "python",
   "name": "myclone"
  },
  "language_info": {
   "codemirror_mode": {
    "name": "ipython",
    "version": 3
   },
   "file_extension": ".py",
   "mimetype": "text/x-python",
   "name": "python",
   "nbconvert_exporter": "python",
   "pygments_lexer": "ipython3",
   "version": "3.9.13"
  }
 },
 "nbformat": 4,
 "nbformat_minor": 5
}
