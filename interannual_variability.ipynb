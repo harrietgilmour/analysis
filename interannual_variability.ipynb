{
 "cells": [
  {
   "cell_type": "code",
   "execution_count": 1,
   "metadata": {},
   "outputs": [],
   "source": [
    "import numpy as np\n",
    "import glob\n",
    "import pandas as pd\n",
    "import matplotlib.pyplot as plt\n",
    "import iris.plot as iplt\n",
    "import cartopy.crs as ccrs"
   ]
  },
  {
   "cell_type": "code",
   "execution_count": 2,
   "metadata": {},
   "outputs": [],
   "source": [
    "all_years_cpm = pd.read_hdf('/project/cssp_brazil/mcs_tracking_HG/CPM_HINDCAST_TRACKS/final_tracks_CPM_REGRIDDED/merged/all_years_combined_CCPF/all_years_CCPF_cpm_hindcast.hdf', 'table')\n",
    "all_years_obs = pd.read_hdf('/project/cssp_brazil/mcs_tracking_HG/OBS_TRACKS/final_tracks_obs/merged/all_years_combined_CCPF/all_years_CCPF_obs.hdf', 'table')"
   ]
  },
  {
   "cell_type": "code",
   "execution_count": 4,
   "metadata": {},
   "outputs": [],
   "source": [
    "all_years_cpm = all_years_cpm[all_years_cpm.datetime.dt.year > 2000]"
   ]
  },
  {
   "cell_type": "code",
   "execution_count": 5,
   "metadata": {},
   "outputs": [],
   "source": [
    "dataframes = [all_years_cpm, all_years_obs]\n",
    "\n",
    "for df in dataframes:\n",
    "    df.timestr = df.timestr.astype(str)\n",
    "    df['datetime'] = pd.to_datetime(df.timestr.str.split(',\\s*').str[0]) \n",
    "    set(df['datetime'])"
   ]
  },
  {
   "cell_type": "code",
   "execution_count": 7,
   "metadata": {},
   "outputs": [
    {
     "name": "stdout",
     "output_type": "stream",
     "text": [
      "Stats for all years combined:\n",
      " \n",
      "16521 cells in the observed original non-filtered dataset\n",
      "21060 cells in the CPM original non-filtered dataset\n",
      "Difference of 4539 cells\n"
     ]
    }
   ],
   "source": [
    "## stats for pre and post filtering ##\n",
    "# ---------------------------------------\n",
    "print('Stats for all years combined:')\n",
    "print(' ')\n",
    "\n",
    "print(np.unique(all_years_obs.cell.values).shape[0], \"cells in the observed original non-filtered dataset\")\n",
    "\n",
    "print(np.unique(all_years_cpm.cell.values).shape[0], \"cells in the CPM original non-filtered dataset\")\n",
    "\n",
    "print(\"Difference of {} cells\".format((np.unique(all_years_cpm.cell.values).shape[0] - np.unique(all_years_obs.cell.values).shape[0])))\n",
    "\n",
    "# print(\"Total of\", (np.unique(all_years_obs.cell.values).shape[0])-(np.unique(all_years_cpm.cell.values).shape[0]), \"cells removed post-filtering\")\n",
    "\n",
    "# print(((((np.unique(all_years_obs.cell.values).shape[0])-(np.unique(all_years_cpm.cell.values).shape[0]))/(np.unique(all_years_obs.cell.values).shape[0]))*100), \"% decrease\")"
   ]
  },
  {
   "cell_type": "markdown",
   "metadata": {},
   "source": [
    "**Loading in each year individually**"
   ]
  },
  {
   "cell_type": "code",
   "execution_count": 11,
   "metadata": {},
   "outputs": [],
   "source": [
    "yr_2001_cpm = pd.read_hdf('/project/cssp_brazil/mcs_tracking_HG/CPM_HINDCAST_TRACKS/final_tracks_CPM_REGRIDDED/merged/2001/CCPF_2001.hdf', 'table')\n",
    "yr_2002_cpm = pd.read_hdf('/project/cssp_brazil/mcs_tracking_HG/CPM_HINDCAST_TRACKS/final_tracks_CPM_REGRIDDED/merged/2002/CCPF_2002.hdf', 'table')\n",
    "yr_2003_cpm = pd.read_hdf('/project/cssp_brazil/mcs_tracking_HG/CPM_HINDCAST_TRACKS/final_tracks_CPM_REGRIDDED/merged/2003/CCPF_2003.hdf', 'table')\n",
    "yr_2004_cpm = pd.read_hdf('/project/cssp_brazil/mcs_tracking_HG/CPM_HINDCAST_TRACKS/final_tracks_CPM_REGRIDDED/merged/2004/CCPF_2004.hdf', 'table')\n",
    "yr_2005_cpm = pd.read_hdf('/project/cssp_brazil/mcs_tracking_HG/CPM_HINDCAST_TRACKS/final_tracks_CPM_REGRIDDED/merged/2005/CCPF_2005.hdf', 'table')\n",
    "yr_2006_cpm = pd.read_hdf('/project/cssp_brazil/mcs_tracking_HG/CPM_HINDCAST_TRACKS/final_tracks_CPM_REGRIDDED/merged/2006/CCPF_2006.hdf', 'table')\n",
    "yr_2007_cpm = pd.read_hdf('/project/cssp_brazil/mcs_tracking_HG/CPM_HINDCAST_TRACKS/final_tracks_CPM_REGRIDDED/merged/2007/CCPF_2007.hdf', 'table')"
   ]
  },
  {
   "cell_type": "code",
   "execution_count": 13,
   "metadata": {},
   "outputs": [],
   "source": [
    "yr_2001_obs = pd.read_hdf('/project/cssp_brazil/mcs_tracking_HG/OBS_TRACKS/final_tracks_obs/merged/2001/CCPF_2001.hdf', 'table')\n",
    "yr_2002_obs = pd.read_hdf('/project/cssp_brazil/mcs_tracking_HG/OBS_TRACKS/final_tracks_obs/merged/2002/CCPF_2002.hdf', 'table')\n",
    "yr_2003_obs = pd.read_hdf('/project/cssp_brazil/mcs_tracking_HG/OBS_TRACKS/final_tracks_obs/merged/2003/CCPF_2003.hdf', 'table')\n",
    "yr_2004_obs = pd.read_hdf('/project/cssp_brazil/mcs_tracking_HG/OBS_TRACKS/final_tracks_obs/merged/2004/CCPF_2004.hdf', 'table')\n",
    "yr_2005_obs = pd.read_hdf('/project/cssp_brazil/mcs_tracking_HG/OBS_TRACKS/final_tracks_obs/merged/2005/CCPF_2005.hdf', 'table')\n",
    "yr_2006_obs = pd.read_hdf('/project/cssp_brazil/mcs_tracking_HG/OBS_TRACKS/final_tracks_obs/merged/2006/CCPF_2006.hdf', 'table')\n",
    "yr_2007_obs = pd.read_hdf('/project/cssp_brazil/mcs_tracking_HG/OBS_TRACKS/final_tracks_obs/merged/2007/CCPF_2007.hdf', 'table')"
   ]
  },
  {
   "cell_type": "code",
   "execution_count": 20,
   "metadata": {},
   "outputs": [],
   "source": [
    "## Finding the number of MCSs in each year in CPM and obs\n",
    "\n",
    "\n",
    "dataframes = [yr_2001_cpm, yr_2002_cpm, yr_2003_cpm, yr_2004_cpm, yr_2005_cpm, yr_2006_cpm, yr_2007_cpm, yr_2001_obs, yr_2002_obs, yr_2003_obs, yr_2004_obs, yr_2005_obs, yr_2006_obs, yr_2007_obs]\n",
    "\n",
    "unique_cells = []\n",
    "\n",
    "for dataframe in dataframes:\n",
    "    number = np.unique(dataframe.cell.values).shape[0]\n",
    "    unique_cells.append(number) # Saving these values to a list\n"
   ]
  },
  {
   "cell_type": "code",
   "execution_count": 27,
   "metadata": {},
   "outputs": [],
   "source": [
    "## First 7 values in the list are from the CPM and last 7 are from the obs\n",
    "\n",
    "unique_cells_cpm = unique_cells[:7]\n",
    "unique_cells_obs = unique_cells[7:]\n"
   ]
  },
  {
   "cell_type": "code",
   "execution_count": 26,
   "metadata": {},
   "outputs": [
    {
     "data": {
      "text/plain": [
       "[2999, 2955, 3059, 3070, 2886, 3022, 3070]"
      ]
     },
     "execution_count": 26,
     "metadata": {},
     "output_type": "execute_result"
    }
   ],
   "source": [
    "unique_cells_cpm"
   ]
  },
  {
   "cell_type": "code",
   "execution_count": 28,
   "metadata": {},
   "outputs": [
    {
     "data": {
      "text/plain": [
       "[2321, 2216, 2356, 2212, 2350, 2642, 2425]"
      ]
     },
     "execution_count": 28,
     "metadata": {},
     "output_type": "execute_result"
    }
   ],
   "source": [
    "unique_cells_obs"
   ]
  },
  {
   "cell_type": "code",
   "execution_count": null,
   "metadata": {},
   "outputs": [],
   "source": []
  }
 ],
 "metadata": {
  "kernelspec": {
   "display_name": "myclone",
   "language": "python",
   "name": "python3"
  },
  "language_info": {
   "codemirror_mode": {
    "name": "ipython",
    "version": 3
   },
   "file_extension": ".py",
   "mimetype": "text/x-python",
   "name": "python",
   "nbconvert_exporter": "python",
   "pygments_lexer": "ipython3",
   "version": "3.9.13"
  }
 },
 "nbformat": 4,
 "nbformat_minor": 2
}
